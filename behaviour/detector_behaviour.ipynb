{
 "cells": [
  {
   "cell_type": "code",
   "execution_count": 1,
   "metadata": {},
   "outputs": [],
   "source": [
    "import numpy as np"
   ]
  },
  {
   "cell_type": "code",
   "execution_count": 36,
   "metadata": {},
   "outputs": [
    {
     "name": "stdout",
     "output_type": "stream",
     "text": [
      "True\n",
      "[0. 1. 1. 0. 0. 1.]\n"
     ]
    }
   ],
   "source": [
    "pulses = [1,0,1,1]\n",
    "\n",
    "NCHAN = len(pulses)\n",
    "COMB = int(NCHAN*(NCHAN-1)/2)\n",
    "\n",
    "cnt = np.zeros(COMB)\n",
    "\n",
    "index = 0\n",
    "for i in range(NCHAN):\n",
    "    for j in range(i + 1, NCHAN):  # Ensure j > i\n",
    "        cnt[index] = cnt[index] + int(pulses[i] & pulses[j])\n",
    "        index += 1\n",
    "            \n",
    "print(index == COMB)\n",
    "print(cnt)"
   ]
  },
  {
   "cell_type": "code",
   "execution_count": null,
   "metadata": {},
   "outputs": [],
   "source": []
  }
 ],
 "metadata": {
  "kernelspec": {
   "display_name": "base",
   "language": "python",
   "name": "python3"
  },
  "language_info": {
   "codemirror_mode": {
    "name": "ipython",
    "version": 3
   },
   "file_extension": ".py",
   "mimetype": "text/x-python",
   "name": "python",
   "nbconvert_exporter": "python",
   "pygments_lexer": "ipython3",
   "version": "3.10.9"
  }
 },
 "nbformat": 4,
 "nbformat_minor": 2
}
